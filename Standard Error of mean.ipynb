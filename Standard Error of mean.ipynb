{
 "cells": [
  {
   "cell_type": "code",
   "execution_count": 4,
   "metadata": {},
   "outputs": [],
   "source": [
    "from random import randint\n",
    "import matplotlib.pyplot as plt\n",
    "#import numpy as np\n",
    "import random as rd\n",
    "import statistics as st\n"
   ]
  },
  {
   "cell_type": "code",
   "execution_count": 5,
   "metadata": {},
   "outputs": [
    {
     "data": {
      "image/png": "[encoded data removed]",
      "text/plain": [
       "<matplotlib.figure.Figure at 0x10f3986a0>"
      ]
     },
     "metadata": {},
     "output_type": "display_data"
    }
   ],
   "source": [
    "#Full credit to Khan Academy video for helping me understand this concept\n",
    "#Standard error of mean is nothing but standard deviation of the Sampling distribution of \n",
    "#sample means (That was a mouthful :))\n",
    "\n",
    "#Creating a distribution of random numbers generated 10000 times and drawing a frequency plot\n",
    "\n",
    "orig_distribution = []\n",
    "for i in range(10000):\n",
    "    orig_distribution.append(randint(0,1000))\n",
    "\n",
    "plt.hist(orig_distribution, bins=30, histtype = 'bar', ec = 'black')\n",
    "plt.show()\n"
   ]
  },
  {
   "cell_type": "code",
   "execution_count": 16,
   "metadata": {},
   "outputs": [
    {
     "data": {
      "image/png": "[encoded data removed]",
      "text/plain": [
       "<matplotlib.figure.Figure at 0x1115f4f60>"
      ]
     },
     "metadata": {},
     "output_type": "display_data"
    }
   ],
   "source": [
    "#creating a sampling distribution of sample means\n",
    "# From the original distribution drawing samples of size 10 and 30 1000 times\n",
    "# Calculating the mean of these samples and plotting them\n",
    "\n",
    "rs1mean = []\n",
    "rs2mean = []\n",
    "\n",
    "for i in range(1000):\n",
    "    rand_sample_10 = [orig_distribution[j] for j in rd.sample(range(len(orig_distribution)), 10)]\n",
    "    rand_sample_50 = [orig_distribution[j] for j in rd.sample(range(len(orig_distribution)), 50)]\n",
    "    rs1mean.append(st.mean(rand_sample_10))\n",
    "    rs2mean.append(st.mean(rand_sample_50))\n",
    "    \n",
    "\n",
    "plt.subplot(1,2,1)\n",
    "plt.hist(rs1mean, bins=20, histtype = 'bar', ec = 'black')\n",
    "plt.title(\"sample 10\")\n",
    "\n",
    "\n",
    "plt.subplot(1,2,2)\n",
    "plt.hist(rs2mean, bins=20, histtype = 'bar', ec = 'black')\n",
    "plt.title(\"sample 50\")\n",
    "\n",
    "plt.tight_layout()\n",
    "plt.show()\n",
    "\n",
    "#The sample 50 distribution is tighter which means the SD is lesser for this sampling distribution \n",
    "\n"
   ]
  },
  {
   "cell_type": "code",
   "execution_count": 22,
   "metadata": {},
   "outputs": [
    {
     "name": "stdout",
     "output_type": "stream",
     "text": [
      "288.24100469128007 89.72359808859632 91.14980898797239 40.62940908197842 40.763433806645516\n"
     ]
    }
   ],
   "source": [
    "#Verifying by built in functions and formula the above plots\n",
    "\n",
    "orig = st.stdev(orig_distribution)\n",
    "sample_10 = st.stdev(rs1mean)\n",
    "sample_10_formula = orig/(10**0.5)\n",
    "sample_30 = st.stdev(rs2mean)\n",
    "sample_30_formula = orig/(50**0.5)\n",
    "\n",
    "\n",
    "print(orig, sample_10, sample_10_formula, sample_30, sample_30_formula)"
   ]
  },
  {
   "cell_type": "code",
   "execution_count": 23,
   "metadata": {},
   "outputs": [
    {
     "name": "stdout",
     "output_type": "stream",
     "text": [
      "495.9003 499.82354 499.4668\n"
     ]
    }
   ],
   "source": [
    "##Comparing the means of the sampling distribution and the population mean\n",
    "print(st.mean(rs1mean), st.mean(rs2mean), st.mean(orig_distribution))"
   ]
  }
 ],
 "metadata": {
  "kernelspec": {
   "display_name": "Python 3",
   "language": "python",
   "name": "python3"
  },
  "language_info": {
   "codemirror_mode": {
    "name": "ipython",
    "version": 3
   },
   "file_extension": ".py",
   "mimetype": "text/x-python",
   "name": "python",
   "nbconvert_exporter": "python",
   "pygments_lexer": "ipython3",
   "version": "3.6.3"
  }
 },
 "nbformat": 4,
 "nbformat_minor": 2
}
